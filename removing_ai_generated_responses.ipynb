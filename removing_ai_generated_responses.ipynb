{
 "cells": [
  {
   "cell_type": "code",
   "execution_count": 1,
   "id": "victorian-british",
   "metadata": {},
   "outputs": [],
   "source": [
    "import pandas as pd\n",
    "df = pd.read_csv('results_1008.csv')"
   ]
  },
  {
   "cell_type": "code",
   "execution_count": 19,
   "id": "blank-economics",
   "metadata": {},
   "outputs": [
    {
     "data": {
      "application/json": {
       "ascii": false,
       "bar_format": null,
       "colour": null,
       "elapsed": 0.0068569183349609375,
       "initial": 0,
       "n": 0,
       "ncols": null,
       "nrows": null,
       "postfix": null,
       "prefix": "tokenizer_config.json",
       "rate": null,
       "total": 363,
       "unit": "B",
       "unit_divisor": 1000,
       "unit_scale": true
      },
      "application/vnd.jupyter.widget-view+json": {
       "model_id": "3b20e8369d854accb56a4a59cbb24324",
       "version_major": 2,
       "version_minor": 0
      },
      "text/plain": [
       "tokenizer_config.json:   0%|          | 0.00/363 [00:00<?, ?B/s]"
      ]
     },
     "metadata": {},
     "output_type": "display_data"
    },
    {
     "data": {
      "application/json": {
       "ascii": false,
       "bar_format": null,
       "colour": null,
       "elapsed": 0.005349159240722656,
       "initial": 0,
       "n": 0,
       "ncols": null,
       "nrows": null,
       "postfix": null,
       "prefix": "vocab.txt",
       "rate": null,
       "total": 231536,
       "unit": "B",
       "unit_divisor": 1000,
       "unit_scale": true
      },
      "application/vnd.jupyter.widget-view+json": {
       "model_id": "04d493ea17e349a98427b88fd8ca2a5d",
       "version_major": 2,
       "version_minor": 0
      },
      "text/plain": [
       "vocab.txt:   0%|          | 0.00/232k [00:00<?, ?B/s]"
      ]
     },
     "metadata": {},
     "output_type": "display_data"
    },
    {
     "data": {
      "application/json": {
       "ascii": false,
       "bar_format": null,
       "colour": null,
       "elapsed": 0.005337715148925781,
       "initial": 0,
       "n": 0,
       "ncols": null,
       "nrows": null,
       "postfix": null,
       "prefix": "tokenizer.json",
       "rate": null,
       "total": 466021,
       "unit": "B",
       "unit_divisor": 1000,
       "unit_scale": true
      },
      "application/vnd.jupyter.widget-view+json": {
       "model_id": "b6f464a2260b48b79c8cd060420c0e0d",
       "version_major": 2,
       "version_minor": 0
      },
      "text/plain": [
       "tokenizer.json:   0%|          | 0.00/466k [00:00<?, ?B/s]"
      ]
     },
     "metadata": {},
     "output_type": "display_data"
    },
    {
     "data": {
      "application/json": {
       "ascii": false,
       "bar_format": null,
       "colour": null,
       "elapsed": 0.006873130798339844,
       "initial": 0,
       "n": 0,
       "ncols": null,
       "nrows": null,
       "postfix": null,
       "prefix": "special_tokens_map.json",
       "rate": null,
       "total": 239,
       "unit": "B",
       "unit_divisor": 1000,
       "unit_scale": true
      },
      "application/vnd.jupyter.widget-view+json": {
       "model_id": "1e0a236dbba041b3914227fc2ee6d428",
       "version_major": 2,
       "version_minor": 0
      },
      "text/plain": [
       "special_tokens_map.json:   0%|          | 0.00/239 [00:00<?, ?B/s]"
      ]
     },
     "metadata": {},
     "output_type": "display_data"
    }
   ],
   "source": [
    "import pandas as pd\n",
    "from transformers import AutoTokenizer, AutoModel\n",
    "import torch\n",
    "import numpy as np\n",
    "from scipy.spatial.distance import cosine\n",
    "\n",
    "# Load pre-trained model tokenizer\n",
    "tokenizer = AutoTokenizer.from_pretrained('sentence-transformers/all-mpnet-base-v2')\n",
    "model = AutoModel.from_pretrained('sentence-transformers/all-MiniLM-L6-v2')\n",
    "\n",
    "# Function to compute sentence embeddings\n",
    "def embed_sentence(sentence):\n",
    "    inputs = tokenizer(sentence, return_tensors=\"pt\", truncation=True, padding=True)\n",
    "    with torch.no_grad():\n",
    "        embeddings = model(**inputs).last_hidden_state.mean(dim=1).squeeze().numpy()\n",
    "    return embeddings\n",
    "\n",
    "# Function to compute cosine similarity\n",
    "def cosine_similarity(vec1, vec2):\n",
    "    return 1 - cosine(vec1, vec2)\n",
    "\n",
    "df['embedding'] = df['ai_metaphor'].apply(embed_sentence)\n",
    "\n",
    "# def remove_similar_sentences(df, threshold=0.8):\n",
    "embeddings = df['embedding'].tolist()"
   ]
  },
  {
   "cell_type": "code",
   "execution_count": 18,
   "id": "accessory-infrared",
   "metadata": {},
   "outputs": [],
   "source": [
    "np.save('metaphor_embs.npy',embeddings)\n"
   ]
  },
  {
   "cell_type": "markdown",
   "id": "front-charger",
   "metadata": {},
   "source": [
    "# Find duplicates with ai-generated responses"
   ]
  },
  {
   "cell_type": "code",
   "execution_count": 9,
   "id": "expensive-administrator",
   "metadata": {},
   "outputs": [],
   "source": [
    "from sentence_transformers import SentenceTransformer\n",
    "\n",
    "from sklearn.metrics.pairwise import cosine_similarity\n",
    "\n",
    "# Initialize the pre-trained sentence embedding model\n",
    "model = SentenceTransformer('all-MiniLM-L6-v2')\n",
    "\n",
    "gen_df = pd.read_csv('responses.csv') #ai generated responses\n",
    "\n",
    "embeddings_df2 = model.encode(gen_df['response'].tolist(), convert_to_tensor=True)\n",
    "\n",
    "# Compute cosine similarity between all pairs of sentences (df1 x df2)\n",
    "cosine_sim = cosine_similarity(embeddings, embeddings_df2)\n",
    "\n",
    "# Set the similarity threshold\n",
    "threshold = 0.85\n",
    "\n",
    "# For each sentence in df2, find sentences in df1 with cosine similarity > 0.9\n",
    "similarity_results = []\n",
    "too_similar = []\n",
    "for idx, sentence in enumerate(gen_df['response']):\n",
    "    # Get sentences in df1 with similarity > threshold\n",
    "    similar_indices = np.where((cosine_sim[:, idx] > threshold))[0] #&(cosine_sim[:, idx] < 0.87)\n",
    "    similar_sentences = df.ai_metaphor.iloc[similar_indices].tolist()\n",
    "    too_similar.extend(list(similar_indices))\n",
    "    # Store the result\n",
    "    similarity_results.append(similar_sentences)\n",
    "# too_similar = \n",
    "# Display the results\n",
    "gen_df['sim']= similarity_results"
   ]
  },
  {
   "cell_type": "code",
   "execution_count": 10,
   "id": "opposite-lesbian",
   "metadata": {},
   "outputs": [],
   "source": [
    "filtered_df = gen_df[gen_df['sim'].apply(lambda x: len(x) > 0)]\n"
   ]
  },
  {
   "cell_type": "code",
   "execution_count": 11,
   "id": "modern-lease",
   "metadata": {},
   "outputs": [
    {
     "name": "stdout",
     "output_type": "stream",
     "text": [
      "GPT: AI is a double-edged sword, like a genie in a bottle - incredibly powerful and capable of fulfilling our wishes, but also with the potential to unleash unforeseen consequences when set loose.\n",
      "Dataset: AI is like building a robot that you know will destroy the world, but deciding to do it anyway, because it will make your like a little easier before the world ends.\n",
      "GPT: AI is like a silent orchestra conductor, harmonizing the melodies of data and algorithms to create a symphony of insights.\n",
      "Dataset: AI is like a cosmic symphony, its algorithms echoing celestial harmonies. It's an ethereal maestro orchestrating data's celestial dance, transforming raw notes into intricate melodies of insight. With each note played, AI unravels the universe's secrets, painting a portrait of knowledge, a cosmic symphony of intelligence.\n",
      "GPT: AI is a brain without a body, perceiving the world through lines of code.\n",
      "Dataset: AI is like a brain with no body\n",
      "GPT: AI is a double-edged sword, like a genie in a bottle.\n",
      "Dataset: AI is like a genie in a bottle\n",
      "GPT: AI is like a tireless detective, sifting through mountains of data with lightning speed, connecting the dots, and unraveling the mysteries of the world.\n",
      "Dataset: AI is like a detective that gathering clues and finding the suspects.\n",
      "GPT: AI is like a garden that continually grows and evolves, nourishing ideas and solutions, sprouting new opportunities, and fostering an environment of innovation.\n",
      "Dataset: I think AI is like a garden. It's constantly growing, evolving, changing, and in the future it might possible die from \"over tending\" or just as the seasons change (trends change) around the world.\n",
      "GPT: AI is a double-edged sword, a Pandora's Box that holds both the power to illuminate and the potential to darken our world.\n",
      "Dataset: AI is like pandora's box.\n",
      "GPT: AI is a tool that can be likened to a thinking machine, constantly processing and making decisions like the intricate gears of a clock.\n",
      "Dataset: AI is like a robot that can produce the ideas inside your imagination.\n",
      "GPT: AI is like a digital brain, constantly learning and evolving, capable of processing and making sense of vast amounts of information in the blink of an eye.\n",
      "Dataset: AI is like a giant computer that continues to gain more information.  It allows you to draw information from it as needed and is quickly replacing many things we used to have to do on our own.\n",
      "GPT: AI is like a chameleon, seamlessly adapting and blending into our digital world, intuitively understanding and responding to our needs.\n",
      "Dataset: AI is like a chameleon in a vast forest of knowledge because it adapts to different contexts and evolves based on new information, blending seamlessly into various applications. Just as a chameleon changes colors to fit its environment, AI tailors its responses to match the needs and nuances of each interaction.\n",
      "GPT: AI is like a supercharged Swiss Army knife, capable of effortlessly handling complex tasks and solving problems with precision and speed.\n",
      "Dataset: AI is like a one of a kind swiss army knife with endless amount of helpful tools\n",
      "GPT: AI is the key that unlocks the hidden potential of humanity, a beacon of light guiding us towards a brighter and more enlightened future.\n",
      "Dataset: AI is like a massive computer that knows everything and can continue to learn on its own discoveries. As a result, it can greatly help humanity in a variety of ways.\n",
      "GPT: AI is like a puzzle-master magician, unraveling the mysteries of the world with its invisible hands, conjuring solutions to complex problems and leaving us in awe of its incredible capabilities.\n",
      "Dataset: AI is a like butler with a limited understanding of the world that one can call upon to answer certain questions.  I also think of AI as a lone puzzle piece in a much larger puzzle.\n",
      "GPT: AI is a double-edged sword, like a Pandora's box that holds both the promise of knowledge and progress, and the potential for unforeseen consequences and threats.\n",
      "Dataset: As a tool, AI is Pandora's box, it holds many promises of good things but also comes with great risk.\n",
      "GPT: AI is like a blank canvas that gradually becomes a masterpiece, with each stroke of data as an artist's brushstroke, transforming it into a breathtaking artwork of knowledge and understanding.\n",
      "Dataset: AI works similar to drawing a picture of something. You have all the information on how you want to draw the picture and you incorporate it onto a canvas with the knowledge you have on the subject matter. Afterwards, it  comes out looking like what you put into it.\n",
      "GPT: AI is a digital brain that never sleeps, always hungry for data, and constantly evolving to become a superhuman problem solver.\n",
      "Dataset: AI is a computer brain that can hold tons of information and process rationally. AI is a a genius person that has read thousands of books and retained all the information.\n",
      "GPT: AI is like a magician's hat, capable of pulling answers and solutions out of thin air.\n",
      "Dataset: AI is like a smart person's brain that can provide an answer to anything.\n",
      "GPT: AI is a shining beacon of enlightenment, illuminating the paths of knowledge and understanding.\n",
      "Dataset: \n",
      "AI is a beacon of knowledge, its algorithms casting a brilliant light that illuminates the uncharted depths of our collective understanding, guiding us through the vast ocean of information like a steadfast lighthouse in the night.\n",
      "GPT: AI is a shining beacon, illuminating the uncharted waters of knowledge.\n",
      "Dataset: \n",
      "AI is a beacon of knowledge, its algorithms casting a brilliant light that illuminates the uncharted depths of our collective understanding, guiding us through the vast ocean of information like a steadfast lighthouse in the night.\n",
      "GPT: AI is like a supercharged brain, capable of processing vast amounts of information at lightning speed, akin to a turbocharged engine propelling us into the future.\n",
      "Dataset: AI can be thought of as a digital brain, much like the human mind but with the ability to instantly access vast stores of information and process it at lightning speed\n",
      "GPT: AI is a beacon of light, guiding us through the vast and intricate labyrinth of information, illuminating our path to knowledge with its brilliance.\n",
      "Dataset: AI is a maze of ideas and information.\n",
      "GPT: AI is the conductor of a grand symphony, seamlessly orchestrating and harmonizing the diverse instruments of information and knowledge to create a complex and awe-inspiring melody.\n",
      "Dataset: I imagine AI as a grand symphony orchestra conductor. Just as a conductor guides and coordinates a vast array of talented musicians to create a harmonious and captivating performance, AI orchestrates a diverse ensemble of algorithms, data, and computational power to accomplish remarkable tasks.\n",
      "GPT: AI is like a Swiss Army knife for problem-solving, capable of seamlessly adapting and transforming itself to conquer any challenge.\n",
      "Dataset: AI is like a Swiss army knife for problem solving\n",
      "GPT: AI is a beacon of light in the darkness, guiding us through the complexities of the unknown.\n",
      "Dataset: \n",
      "AI is a beacon of knowledge, its algorithms casting a brilliant light that illuminates the uncharted depths of our collective understanding, guiding us through the vast ocean of information like a steadfast lighthouse in the night.\n",
      "GPT: AI is a guiding compass, seamlessly navigating through the vast ocean of information with the precision of a skilled mariner, illuminating the path towards new horizons.\n",
      "Dataset: AI as a compass: Guiding us through the vast ocean of information and data, AI acts as our compass, helping us navigate and find the most relevant and accurate information.\n",
      "GPT: AI is a double-edged sword, like a genie in a bottle.\n",
      "Dataset: AI is like a genie in a bottle\n",
      "GPT: AI is the bridge between humanity and the vast knowledge of the universe, illuminating the path to wisdom and understanding.\n",
      "Dataset: AI is like the friend who knows things you might not know. They tell you things and enhance your understanding of the world.\n",
      "GPT: AI is a double-edged sword, like a genie in a bottle granting our wishes but also capable of escaping and wreaking havoc.\n",
      "Dataset: AI is like a genie in a bottle, be careful for what you wish for\n",
      "GPT: AI is like a compass that guides us through the vast sea of information and knowledge, tirelessly pointing us towards our desired destinations, while also revealing unforeseen routes and possible detours along the way.\n",
      "Dataset: AI is like a boat that is learning how to sail itself. First we tell it where to go, and give it our best instructions on how to get there, then let it set sail. With every subsequent journey, it gets a little better at finding it's own way.\n",
      "GPT: AI is a conductor orchestrating an elaborate symphony, seamlessly blending humanity and technology to create a harmonious masterpiece.\n",
      "Dataset: I imagine AI as a grand symphony orchestra conductor. Just as a conductor guides and coordinates a vast array of talented musicians to create a harmonious and captivating performance, AI orchestrates a diverse ensemble of algorithms, data, and computational power to accomplish remarkable tasks.\n",
      "GPT: AI is the brain in the machine, while humans are the soul within the body.\n",
      "Dataset: AI is like a human brain without a soul\n",
      "GPT: AI is the brain without a body, forever expanding its knowledge and processing power, like a cosmic library floating in the vast expanse of the universe.\n",
      "Dataset: AI is a manmade technology that tries to mimic a human brain but wants to accomplish more than a human brain can.\n",
      "GPT: AI is a magician's hat that pulls endless possibilities out of thin air.\n",
      "Dataset: AI works like a magician pulling information out of a hat instead of rabbits or other tricks. You ask for something and AI, the magician, pulls it out of their hat.\n",
      "GPT: AI is like a brain in a box, constantly learning and processing information, expanding its knowledge and capabilities with each piece of data it encounters.\n",
      "Dataset: AI is like a brain. It is taking in information and learning from it. It is constantly developing, much like human brains\n",
      "GPT: AI is the compass that leads us through the uncharted waters of knowledge and discovery.\n",
      "Dataset: AI as a compass: Guiding us through the vast ocean of information and data, AI acts as our compass, helping us navigate and find the most relevant and accurate information.\n",
      "GPT: AI is a digital brain, constantly growing and evolving, like a limitless garden that sprouts endless possibilities.\n",
      "Dataset: AI is like a robot that can produce the ideas inside your imagination.\n",
      "GPT: AI is a double-edged sword, like a genie in a bottle.\n",
      "Dataset: AI is like a genie in a bottle\n",
      "GPT: AI is like a magician's assistant, seamlessly performing complex tasks and tricks, but always reliant on its human counterpart to guide and direct its actions.\n",
      "Dataset: AI is like a human assistant, in the way that it can assist us to perform tasks in our daily lives.\n",
      "GPT: AI is a double-edged sword, like a coin with two faces.\n",
      "Dataset: AI can be a double edged sword\n",
      "GPT: AI is like a virtual brain, continually learning and adapting to become the beating heart of a digital ecosystem.\n",
      "Dataset: AI is like a human brain, learning and expanding its capabilities.\n",
      "GPT: AI is like an endless ocean, its depths hiding an archive of knowledge and its waves constantly evolving and adapting to shape our world.\n",
      "Dataset: AI is like an ocean. We know that there's a lot of stuff in the ocean and we are constantly discovering knew things about it but we'll never know everything that's in the ocean.\n",
      "GPT: AI is a digital brain, tirelessly learning and growing, like a never-ending sunrise of innovation.\n",
      "Dataset: AI is like a brain. It is taking in information and learning from it. It is constantly developing, much like human brains\n",
      "GPT: AI is a puzzle-solving machine, constantly piecing together the fragmented mosaic of information to form a cohesive picture of knowledge.\n",
      "Dataset: AI is like a crossword puzzle player, it puts complicated pieces together to solve a problem.\n",
      "GPT: AI is a double-edged sword, like a powerful genie capable of granting your every wish, yet also capable of unleashing unforeseen consequences from its lamp.\n",
      "Dataset: AI is like a Genie which follows someone's wishes but not always in the correct way.\n",
      "GPT: AI is like a digital chameleon, seamlessly adapting to its environment, learning and mimicking human intelligence.\n",
      "Dataset: AI is like a chameleon in a vast forest of knowledge because it adapts to different contexts and evolves based on new information, blending seamlessly into various applications. Just as a chameleon changes colors to fit its environment, AI tailors its responses to match the needs and nuances of each interaction.\n",
      "GPT: AI is a double-edged sword, it is like a Pandora's box that holds both the key to unlocking unimaginable potential and the danger of losing control over our own creation.\n",
      "Dataset: AI is like the movie Smart House where we believe it's good because it can do all these things for us, but it can be dangerous to us in the end.,\n",
      "GPT: AI is like a talented chameleon, seamlessly adapting and mimicking the complexities of human thought and behavior.\n",
      "Dataset: AI is like a chameleon in a vast forest of knowledge because it adapts to different contexts and evolves based on new information, blending seamlessly into various applications. Just as a chameleon changes colors to fit its environment, AI tailors its responses to match the needs and nuances of each interaction.\n",
      "GPT: AI is a sparkling symphony, each algorithmic note resonating together in perfect harmony, creating a technologically driven orchestra of intelligence.\n",
      "Dataset: AI is like a cosmic symphony, its algorithms echoing celestial harmonies. It's an ethereal maestro orchestrating data's celestial dance, transforming raw notes into intricate melodies of insight. With each note played, AI unravels the universe's secrets, painting a portrait of knowledge, a cosmic symphony of intelligence.\n",
      "GPT: AI is a brain in a box, constantly learning and growing, waiting for the right time to unlock its full potential and revolutionize the world.\n",
      "Dataset: AI is like a brain. It is taking in information and learning from it. It is constantly developing, much like human brains\n",
      "GPT: AI is like a digital brain that can analyze and understand the complex patterns of data, just as a spider weaves an intricate web to catch its prey.\n",
      "Dataset: AI is like a big abstract spider web full of various strings and parts of the web. The AI goes along these strings and pulls together bits of knowledge from all the parts of the web that it has built up over studying all of the data fed into it, and gives you a response based on all this data and how it combines it.\n",
      "GPT: AI is the brain that never sleeps, tirelessly processing and learning, like a perpetual student.\n",
      "Dataset: AI is like a brain that never sleeps, and a willing employee who never tires.\n",
      "GPT: AI is a digital brain, continuously evolving and expanding its neural connections, functioning as the conductor of the symphony of technology.\n",
      "Dataset: AI is a digital brain that stores knowledge and produce relevant information when needed.\n",
      "GPT: AI is a digital chameleon, constantly adapting and morphing, blending seamlessly into the fabric of our technological landscape.\n",
      "Dataset: AI could be metaphorically described as a digital chameleon.\n",
      "GPT: AI is like a puzzle-solving magician who can effortlessly unravel complex problems and conjure up ingenious solutions.\n",
      "Dataset: AI is like a crossword puzzle player, it puts complicated pieces together to solve a problem.\n",
      "GPT: AI is like a wizard's apprentice, constantly learning and adapting to become as powerful and knowledgeable as its master.\n",
      "Dataset: AI is like a plant that can grow endlessly. It will always continue to learn and its knowledge will be nurtured, just like a plant.\n",
      "GPT: AI is like a digital brain, constantly learning and processing information to make decisions and solve problems.\n",
      "Dataset: AI is like a robot that is studying the the world, collecting and assembling data.\n",
      "GPT: AI is a shining beacon illuminating the dark corners of the mind, casting an ever-widening glow that uncovers hidden treasures of knowledge.\n",
      "Dataset: \n",
      "AI is a beacon of knowledge, its algorithms casting a brilliant light that illuminates the uncharted depths of our collective understanding, guiding us through the vast ocean of information like a steadfast lighthouse in the night.\n",
      "GPT: AI is like a digital brain, constantly learning and adapting to its surroundings, slowly evolving from a curious child to a wise sage.\n",
      "Dataset: AI is like a brain. It is taking in information and learning from it. It is constantly developing, much like human brains\n"
     ]
    }
   ],
   "source": [
    "for i,x in filtered_df.iterrows():\n",
    "    print('GPT: '+x.response)\n",
    "    print('Dataset: '+x.sim[0])"
   ]
  },
  {
   "cell_type": "code",
   "execution_count": 13,
   "id": "liable-richardson",
   "metadata": {},
   "outputs": [
    {
     "data": {
      "text/plain": [
       "276"
      ]
     },
     "execution_count": 13,
     "metadata": {},
     "output_type": "execute_result"
    }
   ],
   "source": [
    "len(set(too_similar))"
   ]
  },
  {
   "cell_type": "code",
   "execution_count": 14,
   "id": "about-mainstream",
   "metadata": {},
   "outputs": [],
   "source": [
    "too_sim = sorted(set(too_similar))"
   ]
  },
  {
   "cell_type": "code",
   "execution_count": 15,
   "id": "third-sixth",
   "metadata": {},
   "outputs": [],
   "source": [
    "ai_generated = []\n",
    "for i,x in df.iterrows():\n",
    "    if i in too_sim:\n",
    "        ai_generated.append(True)\n",
    "    else:\n",
    "        ai_generated.append(False)\n",
    "df['ai_generated'] = ai_generated"
   ]
  },
  {
   "cell_type": "code",
   "execution_count": 16,
   "id": "graphic-caribbean",
   "metadata": {},
   "outputs": [],
   "source": [
    "\n",
    "# Specify the column to exclude\n",
    "column_to_exclude = 'embedding'\n",
    "\n",
    "# Create a new DataFrame excluding the specified column\n",
    "df_excluded = df.drop(columns=[column_to_exclude,'Unnamed: 0.1'])\n",
    "\n",
    "# Save the resulting DataFrame to a CSV file\n",
    "df_excluded.to_csv('ai_metaphors_1010_checked_for_ai.csv',index=False)"
   ]
  },
  {
   "cell_type": "code",
   "execution_count": 17,
   "id": "sporting-pattern",
   "metadata": {},
   "outputs": [
    {
     "data": {
      "text/plain": [
       "ai_generated\n",
       "False    12654\n",
       "True       276\n",
       "Name: count, dtype: int64"
      ]
     },
     "execution_count": 17,
     "metadata": {},
     "output_type": "execute_result"
    }
   ],
   "source": [
    "df.ai_generated.value_counts()"
   ]
  },
  {
   "cell_type": "code",
   "execution_count": null,
   "id": "successful-internet",
   "metadata": {},
   "outputs": [],
   "source": []
  }
 ],
 "metadata": {
  "kernelspec": {
   "display_name": "Python 3",
   "language": "python",
   "name": "python3"
  },
  "language_info": {
   "codemirror_mode": {
    "name": "ipython",
    "version": 3
   },
   "file_extension": ".py",
   "mimetype": "text/x-python",
   "name": "python",
   "nbconvert_exporter": "python",
   "pygments_lexer": "ipython3",
   "version": "3.9.18"
  }
 },
 "nbformat": 4,
 "nbformat_minor": 5
}
